{
 "cells": [
  {
   "cell_type": "code",
   "execution_count": 1,
   "metadata": {},
   "outputs": [],
   "source": [
    "import os"
   ]
  },
  {
   "cell_type": "code",
   "execution_count": 2,
   "metadata": {},
   "outputs": [
    {
     "data": {
      "text/plain": [
       "'c:\\\\Users\\\\shalm\\\\source\\\\repos\\\\EndToEndMachineLearningProject\\\\research'"
      ]
     },
     "execution_count": 2,
     "metadata": {},
     "output_type": "execute_result"
    }
   ],
   "source": [
    "%pwd"
   ]
  },
  {
   "cell_type": "code",
   "execution_count": 3,
   "metadata": {},
   "outputs": [],
   "source": [
    "#we have to be at main/root directory So :\n",
    "\n",
    "os.chdir(\"../\")  #as we want to create folder artifacts in the main/root directory "
   ]
  },
  {
   "cell_type": "code",
   "execution_count": 4,
   "metadata": {},
   "outputs": [
    {
     "data": {
      "text/plain": [
       "'c:\\\\Users\\\\shalm\\\\source\\\\repos\\\\EndToEndMachineLearningProject'"
      ]
     },
     "execution_count": 4,
     "metadata": {},
     "output_type": "execute_result"
    }
   ],
   "source": [
    "%pwd"
   ]
  },
  {
   "cell_type": "markdown",
   "metadata": {},
   "source": [
    "#### creating entity : entity is a return type of the function"
   ]
  },
  {
   "cell_type": "markdown",
   "metadata": {},
   "source": [
    "creating entity"
   ]
  },
  {
   "cell_type": "code",
   "execution_count": 7,
   "metadata": {},
   "outputs": [],
   "source": [
    "from dataclasses import dataclass  #creating entity using dataclasses\n",
    "from pathlib import Path\n"
   ]
  },
  {
   "cell_type": "markdown",
   "metadata": {},
   "source": [
    "#### dataclasses will work not only as python but here it will work as classes values"
   ]
  },
  {
   "cell_type": "code",
   "execution_count": 8,
   "metadata": {},
   "outputs": [],
   "source": [
    "@dataclass(frozen=True)  # Frozen:true mean besides these variables , no other variable will be used\n",
    "class DataIngestionConfig:   # This is entity and this is return type of class this is custom return type can be created with the help of dataclass. (unlike CustomBox)\n",
    "    root_dir: Path    #root_dir is variable and Path is datatype\n",
    "    source_URL: str\n",
    "    local_data_file: Path\n",
    "    unzip_dir: Path"
   ]
  },
  {
   "cell_type": "markdown",
   "metadata": {},
   "source": [
    "Create Configuration manager"
   ]
  },
  {
   "cell_type": "code",
   "execution_count": 21,
   "metadata": {},
   "outputs": [],
   "source": [
    "from mlProject.constants import *  # first calling the path of yaml files which are in the constants folder\n",
    "from mlProject.utils.common import read_yaml, create_directories  # then call the other functions created for reading the yamlfile (read_yaml), and creating dir etc from utils"
   ]
  },
  {
   "cell_type": "code",
   "execution_count": 22,
   "metadata": {},
   "outputs": [],
   "source": [
    "class ConfigurationManager:\n",
    "    def __init__(\n",
    "        self,\n",
    "        config_filepath = CONFIG_FILE_PATH,  #we store the imported variable in one variable\n",
    "        params_filepath = PARAMS_FILE_PATH,\n",
    "        schema_filepath = SCHEMA_FILE_PATH):\n",
    "\n",
    "        self.config = read_yaml(config_filepath) #read the yaml imported files\n",
    "        self.params = read_yaml(params_filepath)\n",
    "        self.schema = read_yaml(schema_filepath)\n",
    "\n",
    "# using self as it is a class variable\n",
    "        \n",
    "        #create a directory using following function\n",
    "        create_directories([self.config.artifacts_root])\n",
    "\n",
    "    # \n",
    "    def get_data_ingestion_config(self) -> DataIngestionConfig:\n",
    "        config = self.config.data_ingestion  #DataIngestionConfig is the return type. whatever written in dataingestionconfig function ,it will return .You can call this function or entity       config = self.config.data_ingestion\n",
    "\n",
    "        create_directories([config.root_dir])  #data_ingestion folder should be created inside artifacts. This is code is for that\n",
    "\n",
    "        data_ingestion_config = DataIngestionConfig(\n",
    "            root_dir=config.root_dir,    #one by one we rae returning all the variables \n",
    "            source_URL=config.source_URL,\n",
    "            local_data_file=config.local_data_file,\n",
    "            unzip_dir=config.unzip_dir \n",
    "        )\n",
    "\n",
    "        return data_ingestion_config"
   ]
  },
  {
   "cell_type": "markdown",
   "metadata": {},
   "source": [
    "#### Now we are creating components"
   ]
  },
  {
   "cell_type": "code",
   "execution_count": 23,
   "metadata": {},
   "outputs": [],
   "source": [
    "import os\n",
    "import urllib.request as request\n",
    "import zipfile\n",
    "from mlProject import logger\n",
    "from mlProject.utils.common import get_size"
   ]
  },
  {
   "cell_type": "code",
   "execution_count": 24,
   "metadata": {},
   "outputs": [],
   "source": [
    "class DataIngestion:  \n",
    "    def __init__(self, config: DataIngestionConfig):  #this DataIngestionConfig has to be passed here so that this function (DataIngestion) can start\n",
    "        self.config = config\n",
    "\n",
    "\n",
    "    # First download function from url\n",
    "    def download_file(self):\n",
    "        if not os.path.exists(self.config.local_data_file):   #if path is not available it will create the path\n",
    "            filename, headers = request.urlretrieve(   #with the help of request package it will download the data, this will return as a filename and we are storing in local_data_file\n",
    "                url = self.config.source_URL,\n",
    "                filename = self.config.local_data_file  \n",
    "            )\n",
    "            logger.info(f\"{filename} download! with following info: \\n{headers}\")\n",
    "        else:\n",
    "            logger.info(f\"File already exists of size: {get_size(Path(self.config.local_data_file))}\")\n",
    "\n",
    "\n",
    "\n",
    "    # extract the zip file with following function\n",
    "    def extract_zip_file(self):\n",
    "        \"\"\"\n",
    "        zip_file_path: str\n",
    "        Extracts the zip file into the data directory\n",
    "        Function returns None\n",
    "        \"\"\"\n",
    "        unzip_path = self.config.unzip_dir  #provide path\n",
    "        os.makedirs(unzip_path, exist_ok=True)  \n",
    "        with zipfile.ZipFile(self.config.local_data_file, 'r') as zip_ref:\n",
    "            zip_ref.extractall(unzip_path)"
   ]
  },
  {
   "cell_type": "markdown",
   "metadata": {},
   "source": [
    "#### Now next from readme file is cretae Pipeline . So we will create the pipeline as below "
   ]
  },
  {
   "cell_type": "code",
   "execution_count": 25,
   "metadata": {},
   "outputs": [
    {
     "name": "stdout",
     "output_type": "stream",
     "text": [
      "[2024-03-11 14:14:45,898: INFO: common: yaml file: config\\config.yaml loaded successfully]\n",
      "[2024-03-11 14:14:45,914: INFO: common: yaml file: params.yaml loaded successfully]\n",
      "[2024-03-11 14:14:45,931: INFO: common: yaml file: schema.yaml loaded successfully]\n",
      "[2024-03-11 14:14:45,946: INFO: common: created directory at: artifacts]\n",
      "[2024-03-11 14:14:45,961: INFO: common: created directory at: artifacts/data_ingestion]\n",
      "[2024-03-11 14:14:47,155: INFO: 676587157: artifacts/data_ingestion/data.zip download! with following info: \n",
      "Connection: close\n",
      "Content-Length: 23329\n",
      "Cache-Control: max-age=300\n",
      "Content-Security-Policy: default-src 'none'; style-src 'unsafe-inline'; sandbox\n",
      "Content-Type: application/zip\n",
      "ETag: \"c69888a4ae59bc5a893392785a938ccd4937981c06ba8a9d6a21aa52b4ab5b6e\"\n",
      "Strict-Transport-Security: max-age=31536000\n",
      "X-Content-Type-Options: nosniff\n",
      "X-Frame-Options: deny\n",
      "X-XSS-Protection: 1; mode=block\n",
      "X-GitHub-Request-Id: 368E:0E68:996660:A091FF:65EF03C3\n",
      "Accept-Ranges: bytes\n",
      "Date: Mon, 11 Mar 2024 13:14:43 GMT\n",
      "Via: 1.1 varnish\n",
      "X-Served-By: cache-fra-eddf8230123-FRA\n",
      "X-Cache: MISS\n",
      "X-Cache-Hits: 0\n",
      "X-Timer: S1710162883.479950,VS0,VE157\n",
      "Vary: Authorization,Accept-Encoding,Origin\n",
      "Access-Control-Allow-Origin: *\n",
      "Cross-Origin-Resource-Policy: cross-origin\n",
      "X-Fastly-Request-ID: f14415fbe535ec401ea05027fa12fb279f9e5f6e\n",
      "Expires: Mon, 11 Mar 2024 13:19:43 GMT\n",
      "Source-Age: 0\n",
      "\n",
      "]\n"
     ]
    }
   ],
   "source": [
    "try:\n",
    "    config = ConfigurationManager()  #initialise configurationmanager and created the object ,because  data_ingestion component needs the configuration manager above as config \n",
    "    data_ingestion_config = config.get_data_ingestion_config()  #now call get_data_ingestion_config\n",
    "    data_ingestion = DataIngestion(config=data_ingestion_config) #calling component . Now object is created.\n",
    "    data_ingestion.download_file()\n",
    "    data_ingestion.extract_zip_file()\n",
    "except Exception as e:\n",
    "    raise e"
   ]
  },
  {
   "cell_type": "markdown",
   "metadata": {},
   "source": [
    "### After runnig this the artifact folder will be created with zip and unzip files"
   ]
  },
  {
   "cell_type": "markdown",
   "metadata": {},
   "source": [
    "Now convert this notebook into modular coding. Copy paste the code into specific folders "
   ]
  }
 ],
 "metadata": {
  "kernelspec": {
   "display_name": "MLProject",
   "language": "python",
   "name": "python3"
  },
  "language_info": {
   "codemirror_mode": {
    "name": "ipython",
    "version": 3
   },
   "file_extension": ".py",
   "mimetype": "text/x-python",
   "name": "python",
   "nbconvert_exporter": "python",
   "pygments_lexer": "ipython3",
   "version": "3.8.18"
  }
 },
 "nbformat": 4,
 "nbformat_minor": 2
}
