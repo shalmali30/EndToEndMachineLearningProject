{
 "cells": [
  {
   "cell_type": "code",
   "execution_count": 1,
   "metadata": {},
   "outputs": [],
   "source": [
    "import os"
   ]
  },
  {
   "cell_type": "code",
   "execution_count": 2,
   "metadata": {},
   "outputs": [
    {
     "data": {
      "text/plain": [
       "'c:\\\\Users\\\\shalm\\\\source\\\\repos\\\\EndToEndMachineLearningProject\\\\research'"
      ]
     },
     "execution_count": 2,
     "metadata": {},
     "output_type": "execute_result"
    }
   ],
   "source": [
    "%pwd"
   ]
  },
  {
   "cell_type": "code",
   "execution_count": 3,
   "metadata": {},
   "outputs": [],
   "source": [
    "os.chdir(\"../\")"
   ]
  },
  {
   "cell_type": "code",
   "execution_count": 24,
   "metadata": {},
   "outputs": [
    {
     "data": {
      "text/plain": [
       "'c:\\\\Users\\\\shalm\\\\source\\\\repos\\\\EndToEndMachineLearningProject'"
      ]
     },
     "execution_count": 24,
     "metadata": {},
     "output_type": "execute_result"
    }
   ],
   "source": [
    "%pwd"
   ]
  },
  {
   "cell_type": "code",
   "execution_count": 36,
   "metadata": {},
   "outputs": [],
   "source": [
    "from dataclasses import dataclass\n",
    "from pathlib import Path\n",
    "\n",
    "\n",
    "@dataclass(frozen=True)\n",
    "class DataValidationConfig:\n",
    "    root_dir: Path\n",
    "    STATUS_FILE: str\n",
    "    unzip_data_dir: Path\n",
    "    all_schema: dict   # Yaml file always return dictionary format , so datatype is Dict"
   ]
  },
  {
   "cell_type": "code",
   "execution_count": 26,
   "metadata": {},
   "outputs": [],
   "source": [
    "from mlProject.constants import *\n",
    "from mlProject.utils.common import read_yaml, create_directories"
   ]
  },
  {
   "cell_type": "code",
   "execution_count": 46,
   "metadata": {},
   "outputs": [],
   "source": [
    "class ConfigurationManager:\n",
    "    def __init__(\n",
    "        self,\n",
    "        config_filepath = CONFIG_FILE_PATH,\n",
    "        params_filepath = PARAMS_FILE_PATH,\n",
    "        schema_filepath = SCHEMA_FILE_PATH):\n",
    "\n",
    "        self.config = read_yaml(config_filepath)\n",
    "        self.params = read_yaml(params_filepath)\n",
    "        self.schema = read_yaml(schema_filepath)\n",
    "\n",
    "        create_directories([self.config.artifacts_root])\n",
    "\n",
    "    def get_data_validation_config(self) -> DataValidationConfig:  # return type : DataValidationConfig\n",
    "        config = self.config.data_validation\n",
    "        schema = self.schema.COLUMNS\n",
    "\n",
    "        create_directories([config.root_dir])\n",
    "\n",
    "        data_validation_config = DataValidationConfig(\n",
    "            root_dir=config.root_dir,\n",
    "            STATUS_FILE=config.STATUS_FILE,\n",
    "            unzip_data_dir = config.unzip_data_dir,\n",
    "            all_schema=schema,\n",
    "        )\n",
    "\n",
    "        return data_validation_config"
   ]
  },
  {
   "cell_type": "code",
   "execution_count": 47,
   "metadata": {},
   "outputs": [],
   "source": [
    "import os\n",
    "from mlProject import logger\n",
    "import pandas as pd"
   ]
  },
  {
   "cell_type": "code",
   "execution_count": 48,
   "metadata": {},
   "outputs": [],
   "source": [
    "class DataValiadtion:\n",
    "    def __init__(self, config: DataValidationConfig):\n",
    "        self.config = config\n",
    "\n",
    "    \n",
    "    def validate_all_columns(self)-> bool:  #we are only checking if the columns are present. We can also write a method for checking the datatype of the column as well.\n",
    "        try:\n",
    "            validation_status = None\n",
    "\n",
    "            data = pd.read_csv(self.config.unzip_data_dir)\n",
    "            all_cols = list(data.columns)\n",
    "\n",
    "            all_schema = self.config.all_schema.keys()\n",
    "\n",
    "            \n",
    "            for col in all_cols:\n",
    "                if col not in all_schema:\n",
    "                    validation_status = False\n",
    "                    with open(self.config.STATUS_FILE, 'w') as f:    # Open the text file where you want to store\n",
    "                        f.write(f\"Validation status: {validation_status}\")  # write in that file\n",
    "                else:\n",
    "                    validation_status = True\n",
    "                    with open(self.config.STATUS_FILE, 'w') as f:\n",
    "                        f.write(f\"Validation status: {validation_status}\")\n",
    "\n",
    "            return validation_status\n",
    "        \n",
    "        except Exception as e:\n",
    "            raise e"
   ]
  },
  {
   "cell_type": "markdown",
   "metadata": {},
   "source": [
    " We checked if columns are available , for datatype check you can write a method. This is another layer of validation. (to avoid errors)"
   ]
  },
  {
   "cell_type": "code",
   "execution_count": 49,
   "metadata": {},
   "outputs": [
    {
     "name": "stdout",
     "output_type": "stream",
     "text": [
      "[2024-03-19 10:43:09,625: INFO: common: yaml file: config\\config.yaml loaded successfully]\n",
      "[2024-03-19 10:43:09,631: INFO: common: yaml file: params.yaml loaded successfully]\n",
      "[2024-03-19 10:43:09,645: INFO: common: yaml file: schema.yaml loaded successfully]\n",
      "[2024-03-19 10:43:09,647: INFO: common: created directory at: artifacts]\n",
      "[2024-03-19 10:43:09,650: INFO: common: created directory at: artifacts/data_validation]\n"
     ]
    }
   ],
   "source": [
    "try:\n",
    "    config = ConfigurationManager()\n",
    "    data_validation_config = config.get_data_validation_config()\n",
    "    data_validation = DataValiadtion(config=data_validation_config)\n",
    "    data_validation.validate_all_columns()\n",
    "except Exception as e:\n",
    "    raise e"
   ]
  },
  {
   "cell_type": "markdown",
   "metadata": {},
   "source": [
    "Here's a detailed explanation of the pipeline setup and code:\n",
    "\n",
    "1. Configuration Files:\n",
    "\n",
    "config.yaml : Stores general configuration settings for the pipeline.\n",
    "params.yaml : Contains project-specific parameters.\n",
    "schema.yaml : Defines the expected data schema for validation.\n",
    "2. Common Functions:\n",
    "\n",
    "read_yaml(path_to_yaml) :\n",
    "Loads a YAML file from the specified path.\n",
    "Returns an ConfigBoxobject for convenient configuration access.\n",
    "Handles potential errors like empty files.\n",
    "create_directories(path_to_directories) :\n",
    "Creates multiple directories specified in the list.\n",
    "Logs a message for each created directory (optional).\n",
    "3. Data Validation Configuration:\n",
    "\n",
    "DataValidationConfig :\n",
    "A dataclass defining configuration for data validation.\n",
    "Holds:\n",
    "root_dir: Root directory for data validation artifacts.\n",
    "STATUS_FILE: Path to a file tracking validation status.\n",
    "unzip_data_dir: Directory for unzipped data files.\n",
    "all_schema: Dictionary containing the data schema for validation.\n",
    "4. Configuration Manager:\n",
    "\n",
    "ConfigurationManager :\n",
    "Manages configuration loading and access.\n",
    "__init__():\n",
    "Initializes by loading configuration files using read_yaml().\n",
    "Creates necessary directories using create_directories().\n",
    "get_data_validation_config():\n",
    "Retrieves specific configuration for data validation.\n",
    "Creates directories for data validation if needed.\n",
    "Constructs and returns an DataValidationConfigobject.\n",
    "Code flow:\n",
    "\n",
    "ConfigurationManager is instantiated, loading configuration files and creating initial directories.\n",
    "When needed, get_data_validation_config() is called to:\n",
    "Retrieve validation-specific configuration from loaded YAML files.\n",
    "Create necessary directories for validation artifacts.\n",
    "Construct an DataValidationConfigobject to provide structured configuration access for validation tasks.\n",
    "Key takeaways:\n",
    "\n",
    "The pipeline separates configuration from code for flexibility and maintainability.\n",
    "Utility functions centralize common tasks like file loading and directory creation.\n",
    "Configuration is managed using a dedicated class for organization and clarity.\n",
    "Data validation is equipped with a structured configuration object for clarity and consistency."
   ]
  }
 ],
 "metadata": {
  "kernelspec": {
   "display_name": "MLProject",
   "language": "python",
   "name": "python3"
  },
  "language_info": {
   "codemirror_mode": {
    "name": "ipython",
    "version": 3
   },
   "file_extension": ".py",
   "mimetype": "text/x-python",
   "name": "python",
   "nbconvert_exporter": "python",
   "pygments_lexer": "ipython3",
   "version": "3.8.18"
  }
 },
 "nbformat": 4,
 "nbformat_minor": 2
}
