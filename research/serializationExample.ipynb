{
 "cells": [
  {
   "cell_type": "code",
   "execution_count": 4,
   "metadata": {},
   "outputs": [
    {
     "name": "stdout",
     "output_type": "stream",
     "text": [
      "Serialized data from pickle file:\n",
      "b'\\x80\\x04\\x95.\\x00\\x00\\x00\\x00\\x00\\x00\\x00}\\x94(\\x8c\\x04name\\x94\\x8c\\x05Alice\\x94\\x8c\\x03age\\x94K\\x1e\\x8c\\x04city\\x94\\x8c\\x08New York\\x94u.'\n",
      "\n",
      "Serialized data from joblib file:\n",
      "b'\\x80\\x04\\x95.\\x00\\x00\\x00\\x00\\x00\\x00\\x00}\\x94(\\x8c\\x04name\\x94\\x8c\\x05Alice\\x94\\x8c\\x03age\\x94K\\x1e\\x8c\\x04city\\x94\\x8c\\x08New York\\x94u.'\n",
      "\n",
      "Deserialized data from pickle file: {'name': 'Alice', 'age': 30, 'city': 'New York'}\n",
      "Deserialized data from joblib file: {'name': 'Alice', 'age': 30, 'city': 'New York'}\n"
     ]
    }
   ],
   "source": [
    "import pickle\n",
    "from joblib import dump, load\n",
    "\n",
    "# Sample data to serialize\n",
    "data = {'name': 'Alice', 'age': 30, 'city': 'New York'}\n",
    "\n",
    "# Serialize and save data using pickle\n",
    "with open('data_pickle.pkl', 'wb') as file:\n",
    "    pickle.dump(data, file)\n",
    "\n",
    "# Serialize and save data using joblib\n",
    "dump(data, 'data_joblib.joblib')\n",
    "\n",
    "# Read and print serialized data from pickle file\n",
    "with open('data_pickle.pkl', 'rb') as file:\n",
    "    serialized_data_pickle = file.read()\n",
    "    print(\"Serialized data from pickle file:\")\n",
    "    print(serialized_data_pickle)\n",
    "\n",
    "# Read and print serialized data from joblib file\n",
    "with open('data_joblib.joblib', 'rb') as file:\n",
    "    serialized_data_joblib = file.read()\n",
    "    print(\"\\nSerialized data from joblib file:\")\n",
    "    print(serialized_data_joblib)\n",
    "\n",
    "# Deserialize data from pickle file\n",
    "with open('data_pickle.pkl', 'rb') as file:\n",
    "    loaded_data_pickle = pickle.load(file)\n",
    "\n",
    "# Deserialize data from joblib file\n",
    "loaded_data_joblib = load('data_joblib.joblib')\n",
    "\n",
    "# Print deserialized data\n",
    "print(\"\\nDeserialized data from pickle file:\", loaded_data_pickle)\n",
    "print(\"Deserialized data from joblib file:\", loaded_data_joblib)\n",
    "\n",
    "\n",
    "'''  \n",
    "pickle:\n",
    "\n",
    "What it is: The pickle module is part of the Python standard library and is used to serialize Python objects into a byte stream and deserialize them back into Python objects.\n",
    "When to use: pickle is suitable for serializing simple Python objects and data structures. It's widely used for saving and loading trained machine learning models, storing configuration settings, and general-purpose object serialization.\n",
    "joblib:\n",
    "\n",
    "What it is: joblib is an external library commonly used for efficiently serializing and deserializing large NumPy arrays and other objects with a large memory footprint. It's part of the Scikit-learn ecosystem but can be used independently.\n",
    "When to use: joblib is particularly useful when dealing with large NumPy arrays or objects with a large memory footprint, such as machine learning models trained on large datasets. It's optimized for speed and memory efficiency, making it suitable for tasks where performance is critical.\n",
    "\n",
    "Serialization is the process of converting data (complex data structures or objects) into a format that can be easily stored, transmitted, or reconstructed later\n",
    "It's commonly used in scenarios like saving data to disk, transmitting data over a network, or communicating between different systems.\n",
    "\n",
    "\n",
    "'''"
   ]
  }
 ],
 "metadata": {
  "kernelspec": {
   "display_name": "MLProject",
   "language": "python",
   "name": "python3"
  },
  "language_info": {
   "codemirror_mode": {
    "name": "ipython",
    "version": 3
   },
   "file_extension": ".py",
   "mimetype": "text/x-python",
   "name": "python",
   "nbconvert_exporter": "python",
   "pygments_lexer": "ipython3",
   "version": "3.8.18"
  }
 },
 "nbformat": 4,
 "nbformat_minor": 2
}
